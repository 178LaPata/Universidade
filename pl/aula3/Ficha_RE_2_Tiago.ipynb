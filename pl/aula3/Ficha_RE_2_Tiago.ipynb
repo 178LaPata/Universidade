{
  "cells": [
    {
      "cell_type": "markdown",
      "metadata": {
        "id": "oVaAea-wCM6H"
      },
      "source": [
        "# Ficha de Expressões Regulares 2"
      ]
    },
    {
      "cell_type": "markdown",
      "metadata": {
        "id": "gk5jnHXt9t4y"
      },
      "source": [
        "### Conceitos mais avançados de expressões regulares\n",
        "\n",
        "- `.` - corresponde a uma ocorrência de qualquer caracter (exceto '\\n', geralmente).\n",
        "- `\\w` - corresponde a um caracter alfanumérico (a-z, A-Z, 0-9 ou _).\n",
        "- `\\W` - corresponde a um caracter **não** alfanumérico.\n",
        "- `\\s` - corresponde a um caracter de *whitespace* (' ', '\\t', ou '\\n', por exemplo).\n",
        "- `\\S` - corresponde a um caracter que não seja *whitespace*.\n",
        "- `\\d` - corresponde a um dígito.\n",
        "- `\\D` - corresponde a um caracter que não seja um dígito.\n",
        "- `\\btot\\w+` - corresponde a uma palavra **começada** por \"tot\" (o token `\\b` representa uma *word boundary*, ou seja, o limite entre um caracter alfanumérico e outro não alfanumérico). Por outras palavras, captura a palavra \"totalidade\" mas não a palavra \"batota\". O token `\\b` também pode ser usado no fim de palavras.\n",
        "- `a(?=b)` - corresponde a um caracter `a` que tenha à sua frente um caracter `b`, mas não captura o caracter `b`. (*positive lookahead*)\n",
        "- `a(?!b)` - corresponde a um caracter `a` que **não** tenha à sua frente um caracter `b`, mas não captura o caracter seguinte. (*negative lookahead*)\n",
        "- `a(?<=b)` - corresponde a um caracter `a` que tenha atrás de si um caracter `b`, mas não captura o caracter `b`. (*positive lookbehind*)\n",
        "- `a(?<!b)` - corresponde a um caracter `a` que **não** tenha atrás de si um caracter `b`, mas não captura o caracter anterior. (*negative lookbehind*)\n"
      ]
    },
    {
      "cell_type": "markdown",
      "metadata": {
        "id": "lTaHmSRMMmvI"
      },
      "source": [
        "Podemos usar *grupos de captura* em expressões regulares para isolar segmentos da string capturada. Usamos parênteses para definir grupos de captura."
      ]
    },
    {
      "cell_type": "code",
      "execution_count": null,
      "metadata": {
        "colab": {
          "base_uri": "https://localhost:8080/"
        },
        "id": "1Aig805EMion",
        "outputId": "f672fdbd-4547-4e73-983d-9d81ad8c8f98"
      },
      "outputs": [
        {
          "name": "stdout",
          "output_type": "stream",
          "text": [
            "('13', '49')\n",
            "13:49\n",
            "13\n",
            "49\n",
            "49:13\n",
            "49:13\n"
          ]
        }
      ],
      "source": [
        "# Pequena intro sobre grupos de captura\n",
        "import re\n",
        "m = re.search(r'(2[0-3]|[0-1][0-9]):([0-5][0-9])', \"13:49\")\n",
        "\n",
        "print(m.groups()) # conjunto dos grupos de captura\n",
        "print(m.group(0)) # toda a string capturada\n",
        "print(m.group(1)) # o primeiro grupo de captura\n",
        "print(m.group(2)) # o primeiro grupo de captura=\n",
        "\n",
        "texto=\"13:49\"\n",
        "\n",
        "resultSemNome = re.sub(r\"(2[0-3]|[0-1][0-9]):([0-5][0-9])\",r\"\\2:\\1\",texto)\n",
        "print(resultSemNome)\n",
        "\n",
        "resultNome = re.sub(r\"(?P<primeiro>2[0-3]|[0-1][0-9]):([0-5][0-9])\",r\"\\2:\\g<primeiro>\",texto)\n",
        "print(resultNome)"
      ]
    },
    {
      "cell_type": "markdown",
      "metadata": {
        "id": "WxIEoiMdNPkq"
      },
      "source": [
        "O módulo re possui ainda *flags* que podemos usar nas suas funções. As mais úteis são:\n",
        "\n",
        "- `re.I` ou `re.IGNORECASE`: faz uma correspondência *case insensitive*.\n",
        "- `re.M` ou `re.MULTILINE`: os tokens de âncora `^` e `$` passam a corresponder ao início/fim de cada linha, em vez do início/fim de uma string.\n",
        "- `re.S` ou `re.DOTALL`: o token `.` passa a corresponder também a um caracter `\\n`.\n",
        "\n",
        "Podemos usar estas flags da seguinte forma: `re.search(r'trans.*mar', \"TRANSF\\nORMAR\", re.I | re.S)`"
      ]
    },
    {
      "cell_type": "markdown",
      "metadata": {
        "id": "0z3asvbtZijn"
      },
      "source": [
        "## Exercício 1 - Conversão de datas\n",
        "\n",
        "Define a função `iso_8601` que converte as datas presentes numa string no formato DD/MM/AAAA para o formato ISO 8601 - AAAA-MM-DD, usando expressões regulares e grupos de captura."
      ]
    },
    {
      "cell_type": "code",
      "execution_count": null,
      "metadata": {
        "colab": {
          "base_uri": "https://localhost:8080/"
        },
        "id": "VZXeGvw7aLIG",
        "outputId": "9020cf95-37b9-4cc5-8282-cb6b4969bb9c"
      },
      "outputs": [],
      "source": [
        "import re\n",
        "texto = \"\"\"A 03/01/2022, Pedro viajou para a praia com a sua família.\n",
        "Eles ficaram hospedados num hotel e aproveitaram o sol e o mar durante toda a semana.\n",
        "Mais tarde, no dia 12/01/2022, Pedro voltou para casa e começou a trabalhar num novo projeto.\n",
        "Ele passou muitas horas no escritório, mas finalmente terminou o projeto a 15/01/2022.\"\"\"\n",
        "\n",
        "def iso_8601(m):\n",
        "    return f\"{m.group(3)}-{m.group(2)}-{m.group(1)}\"\n",
        "\n",
        "result = re.sub(r\"(\\d{2})/(\\d{2})/(\\d{4})\", iso_8601, texto)\n",
        "print(result)"
      ]
    },
    {
      "cell_type": "markdown",
      "metadata": {
        "id": "WscyvBdMY8ic"
      },
      "source": [
        "## Exercício 2 - Validação de ficheiros\n",
        "\n",
        "Escreve um programa que lê uma lista de nomes de ficheiros e determina se cada nome é válido ou não. O nome de um ficheiro deve conter apenas caracteres alfanuméricos, hífens, underscores ou pontos, seguido de uma extensão (e.g., \".txt\", \".png\", etc.)."
      ]
    },
    {
      "cell_type": "code",
      "execution_count": null,
      "metadata": {
        "colab": {
          "base_uri": "https://localhost:8080/"
        },
        "id": "uUAouM4MZkF6",
        "outputId": "10a3a1b7-8142-477f-9cbe-4e26136a228c"
      },
      "outputs": [
        {
          "name": "stdout",
          "output_type": "stream",
          "text": [
            "Valido document.txt com extensao .txt\n",
            "Invalido\n",
            "Valido image_001.jpg com extensao .jpg\n",
            "Valido script.sh.txt com extensao .sh.txt\n",
            "Valido test_file.txt com extensao .txt\n",
            "Invalido\n",
            "Valido my_resume.docx com extensao .docx\n",
            "Valido .hidden-file.txt com extensao .hidden-file.txt\n",
            "Invalido\n",
            "Invalido\n"
          ]
        }
      ],
      "source": [
        "import re\n",
        "file_names = [\n",
        "  \"document.txt\", # válido\n",
        "  \"file name.docx\", # inválido\n",
        "  \"image_001.jpg\", # válido\n",
        "  \"script.sh.txt\", # válido\n",
        "  \"test_file.txt\", # válido\n",
        "  \"file_name.\", # inválido\n",
        "  \"my_resume.docx\", # válido\n",
        "  \".hidden-file.txt\", # válido\n",
        "  \"important-file.text file\", # inválido\n",
        "  \"file%name.jpg\" # inválido\n",
        "]\n",
        "\n",
        "for file_name in file_names:\n",
        "    if re.match(r\"^^[a-zA-Z0-9\\._-]+\\.[a-zA-Z0-9\\._-]+$\", file_name):\n",
        "        print(f\"Válido {file_name} com a extensão {file_name.split('.')[-1]}\")\n",
        "    else:\n",
        "        print(f\"Inválido\")"
      ]
    },
    {
      "cell_type": "markdown",
      "metadata": {
        "id": "keqnY2BFZkvR"
      },
      "source": [
        "### Alínea 2.1\n",
        "\n",
        "Modifica o programa anterior para colocar os nomes de ficheiro válidos num dicionário, no qual as chaves deverão ser as extensões dos mesmos. Por outras palavras, agrupa os ficheiros por extensão."
      ]
    },
    {
      "cell_type": "code",
      "execution_count": null,
      "metadata": {
        "id": "zdJMjdJsZ6FZ"
      },
      "outputs": [],
      "source": [
        "# criar um dicionario com os nomes validos em que as chaves sao as extensoes\n",
        "valid_files = {}\n",
        "for file_name in file_names:\n",
        "    if re.match(r\"^^[a-zA-Z0-9\\._-]+\\.[a-zA-Z0-9\\._-]+$\", file_name):\n",
        "        extensao = file_name.split('.')[-1]\n",
        "        if extensao in valid_files:\n",
        "            valid_files[extensao].append(file_name)\n",
        "        else:\n",
        "            valid_files[extensao] = [file_name]\n",
        "print(valid_files)"
      ]
    },
    {
      "cell_type": "markdown",
      "metadata": {
        "id": "7mMTNkFUm7lV"
      },
      "source": [
        "## Exercício 3 - Códigos postais 2\n",
        "\n",
        "Define uma função `codigos_postais` que recebe uma lista de códigos postais e divide-os com base no hífen.\n",
        "\n",
        " - A função pode receber códigos postais inválidos.\n",
        " - A função deve devolver uma lista de pares e apenas processar cada linha uma vez."
      ]
    },
    {
      "cell_type": "code",
      "execution_count": null,
      "metadata": {
        "id": "rvxXocYpnqlX"
      },
      "outputs": [],
      "source": [
        "lista = [\n",
        "    \"4700-000\", # válido\n",
        "    \"9876543\", # inválido\n",
        "    \"1234-567\", # válido\n",
        "    \"8x41-5a3\", # inválido\n",
        "    \"84234-12\", # inválido\n",
        "    \"4583--321\", # inválido\n",
        "    \"9481-025\" # válido\n",
        "]\n",
        "\n",
        "def codigo_postais"
      ]
    },
    {
      "cell_type": "markdown",
      "metadata": {
        "id": "m2rtSDSccn33"
      },
      "source": [
        "## Exercício 4 - Expansão de abreviaturas\n",
        "\n",
        "Escreve um filtro de texto que expanda as abreviaturas que encontrar no texto fonte no formato \"/abrev\"."
      ]
    },
    {
      "cell_type": "code",
      "execution_count": null,
      "metadata": {
        "colab": {
          "base_uri": "https://localhost:8080/"
        },
        "id": "Hm60iNFV52oX",
        "outputId": "776e1fea-1aad-42d9-9d98-83b8082c3770"
      },
      "outputs": [
        {
          "name": "stdout",
          "output_type": "stream",
          "text": [
            "A /abrev{UC} de /abrev{PL} é muito fixe! É uma /abrev{UC} que acrescenta muito ao curso de /abrev{LEI} da Universidade do Minho.\n",
            "A Unidade Curricular de Processamento de Linguagens é muito fixe! É uma Unidade Curricular que acrescenta muito ao curso de Licenciatura em Engenharia Informática da Universidade do Minho.\n"
          ]
        }
      ],
      "source": [
        "import re\n",
        "abreviaturas = {\n",
        "    \"UM\": \"Universidade do Minho\",\n",
        "    \"LEI\": \"Licenciatura em Engenharia Informática\",\n",
        "    \"UC\": \"Unidade Curricular\",\n",
        "    \"PL\": \"Processamento de Linguagens\"\n",
        "}\n",
        "\n",
        "\n",
        "texto = \"A /abrev{UC} de /abrev{PL} é muito fixe! É uma /abrev{UC} que acrescenta muito ao curso de /abrev{LEI} da /abrev{UM}.\"\n"
      ]
    },
    {
      "cell_type": "markdown",
      "metadata": {
        "id": "oEiMpi4FDkqm"
      },
      "source": [
        "## Exercício 5 - Matrículas\n",
        "\n",
        "Define uma função `matricula_valida` que recebe uma string de texto e determina se esta contém uma matrícula válida. Uma matrícula segue o formato AA-BB-CC, no qual dois dos três conjuntos devem ser compostos por números e o terceiro por letras maiúsculas (por exemplo, 01-AB-23), ou o novo formato no qual dois dos conjuntos são compostos por letras maiúsculas e o terceiro por números (por exemplo, 89-WX-YZ). Os conjuntos podem ser separados por um hífen ou um espaço.\n",
        "\n",
        "Extra: Garante que o mesmo separador é usado para separar os três conjuntos."
      ]
    },
    {
      "cell_type": "code",
      "execution_count": null,
      "metadata": {
        "id": "CPR0gi10E5Dj"
      },
      "outputs": [],
      "source": [
        "matriculas = [\n",
        "    \"AA-AA-AA\", # inválida\n",
        "    \"LR-RB-32\", # válida\n",
        "    \"1234LX\", # inválida\n",
        "    \"PL 22 23\", # válida\n",
        "    \"ZZ-99-ZZ\", # válida\n",
        "    \"54-tb-34\", # inválida\n",
        "    \"12 34 56\", # inválida\n",
        "    \"42-HA BQ\" # válida, mas inválida com o requisito extra\n",
        "]\n",
        "\n",
        "def matricula_valida(matricula):\n",
        "    ex5 = [\n",
        "        r'([A-Z]{2}(-| )[A-Z]{2}\\2[0-9]{2})', # AA-AA-00\n",
        "        r'([A-Z]{2}(-| )[0-9]{2}\\2[A-Z]{2})', # AA-00-AA\n",
        "        r'([A-Z]{2}(-| )[0-9]{2}\\2[0-9]{2})', # AA-00-00\n",
        "        r'([0-9]{2}(-| )[A-Z]{2}\\2[A-Z]{2})', # 00-AA-AA\n",
        "        r'([0-9]{2}(-| )[0-9]{2}\\2[A-Z]{2})', # 00-00-AA\n",
        "        r'([0-9]{2}(-| )[A-Z]{2}\\2[0-9]{2})', # 00-AA-00\n",
        "    ]\n",
        "\n",
        "    for e in ex5:\n",
        "        if re.search(e, matricula) is not None:\n",
        "            return True\n",
        "\n",
        "    return False\n",
        "\n",
        "def matricula_valida_aux(matricula):\n",
        "    resp = []\n",
        "\n",
        "    for e in matricula:\n",
        "        resp.append(matricula_valida(e))\n",
        "    \n",
        "    return resp\n",
        "\n",
        "print(matricula_valida_aux(matriculas))"
      ]
    },
    {
      "cell_type": "markdown",
      "metadata": {
        "id": "-_NVZEbp8xM-"
      },
      "source": [
        "## Exercício 6 - *Mad Libs*\n",
        "\n",
        "O jogo *Mad Libs*, bastante comum em países como os Estados Unidos, consiste em pegar num texto com espaços para algumas palavras e preencher esses espaços de acordo com o tipo de palavra que é pedida.\n",
        "\n",
        "Escreve um programa que lê um texto no formato *Mad Libs* e pede ao utilizador para fornecer palavras que completem corretamente o texto."
      ]
    },
    {
      "cell_type": "code",
      "execution_count": null,
      "metadata": {
        "id": "VGX0mrL29Vgv"
      },
      "outputs": [],
      "source": [
        "texto = \"\"\"Num lindo dia de [ESTAÇÃO DO ANO], [NOME DE PESSOA] foi passear com o seu [EXPRESSÃO DE PARENTESCO MASCULINA].\n",
        "Quando chegaram à [NOME DE LOCAL FEMININO], encontraram um [OBJETO MASCULINO] muito [ADJETIVO MASCULINO].\n",
        "Ficaram muito confusos, pois não conseguiam identificar a função daquilo.\n",
        "Seria para [VERBO INFINITIVO]? Tentaram perguntar a [NOME DE PESSOA FAMOSA], que também não sabia.\n",
        "Desanimados, pegaram no objeto e deixaram-no no [NOME DE LOCAL MASCULINO] mais próximo.\n",
        "Talvez os [NOME PLURAL MASCULINO] de lá conseguissem encontrar alguma utilidade para aquilo.\"\"\"\n",
        "\n",
        "def madLibs(texto):\n",
        "    exp = re.findall(r'\\[.*?\\]', texto)\n",
        "\n",
        "    for e in exp:\n",
        "        texto = texto.replace(e, input(f\"Insira um(a) {e[1:-1]}: \"))\n",
        "\n",
        "    return texto\n",
        "\n",
        "print(madLibs(texto))"
      ]
    },
    {
      "cell_type": "markdown",
      "metadata": {
        "id": "z8HMWeua6Zc2"
      },
      "source": [
        "## Exercício 7 - Remoção de repetidos\n",
        "\n",
        "Escreve um filtro de texto que sempre que encontrar no texto fonte uma palavra repetida elimina as repetições, ou seja, substitui a lista de palavras por 1 só palavra."
      ]
    },
    {
      "cell_type": "code",
      "execution_count": null,
      "metadata": {
        "id": "YZxTwl0C6v2b"
      },
      "outputs": [],
      "source": [
        "# ..."
      ]
    }
  ],
  "metadata": {
    "colab": {
      "provenance": []
    },
    "kernelspec": {
      "display_name": "Python 3",
      "name": "python3"
    },
    "language_info": {
      "name": "python",
      "version": "3.12.1"
    }
  },
  "nbformat": 4,
  "nbformat_minor": 0
}
